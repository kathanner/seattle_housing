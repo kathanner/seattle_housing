{
 "cells": [
  {
   "cell_type": "markdown",
   "metadata": {},
   "source": [
    "# King County Housing Data by Neighborhood"
   ]
  },
  {
   "cell_type": "markdown",
   "metadata": {},
   "source": [
    "## Import the data"
   ]
  },
  {
   "cell_type": "code",
   "execution_count": 1,
   "metadata": {
    "ExecuteTime": {
     "end_time": "2020-07-28T02:19:27.462955Z",
     "start_time": "2020-07-28T02:19:26.517934Z"
    },
    "scrolled": true
   },
   "outputs": [],
   "source": [
    "#initial libraries needed for importing, cleaning, and initial visualization\n",
    "import pandas as pd\n",
    "import numpy as np\n",
    "import seaborn as sns\n",
    "import matplotlib.pyplot as plt\n",
    "%matplotlib inline\n",
    "\n",
    "sns.set_style('darkgrid')\n",
    "\n",
    "import warnings\n",
    "warnings.filterwarnings(\"ignore\")\n",
    "\n",
    "pd.set_option('display.max_columns', 500)\n",
    "\n",
    "# read the data.csv with pandas and assign it to the variable df\n",
    "df = pd.read_csv('kc_house_data.csv')"
   ]
  },
  {
   "cell_type": "markdown",
   "metadata": {},
   "source": [
    "## Quick Data Cleaning"
   ]
  },
  {
   "cell_type": "code",
   "execution_count": 2,
   "metadata": {
    "ExecuteTime": {
     "end_time": "2020-07-28T02:19:27.480354Z",
     "start_time": "2020-07-28T02:19:27.466460Z"
    }
   },
   "outputs": [
    {
     "data": {
      "text/html": [
       "<div>\n",
       "<style scoped>\n",
       "    .dataframe tbody tr th:only-of-type {\n",
       "        vertical-align: middle;\n",
       "    }\n",
       "\n",
       "    .dataframe tbody tr th {\n",
       "        vertical-align: top;\n",
       "    }\n",
       "\n",
       "    .dataframe thead th {\n",
       "        text-align: right;\n",
       "    }\n",
       "</style>\n",
       "<table border=\"1\" class=\"dataframe\">\n",
       "  <thead>\n",
       "    <tr style=\"text-align: right;\">\n",
       "      <th></th>\n",
       "      <th>zipcode</th>\n",
       "      <th>price</th>\n",
       "    </tr>\n",
       "  </thead>\n",
       "  <tbody>\n",
       "    <tr>\n",
       "      <th>0</th>\n",
       "      <td>98178</td>\n",
       "      <td>221900.0</td>\n",
       "    </tr>\n",
       "    <tr>\n",
       "      <th>1</th>\n",
       "      <td>98125</td>\n",
       "      <td>538000.0</td>\n",
       "    </tr>\n",
       "    <tr>\n",
       "      <th>2</th>\n",
       "      <td>98028</td>\n",
       "      <td>180000.0</td>\n",
       "    </tr>\n",
       "    <tr>\n",
       "      <th>3</th>\n",
       "      <td>98136</td>\n",
       "      <td>604000.0</td>\n",
       "    </tr>\n",
       "    <tr>\n",
       "      <th>4</th>\n",
       "      <td>98074</td>\n",
       "      <td>510000.0</td>\n",
       "    </tr>\n",
       "  </tbody>\n",
       "</table>\n",
       "</div>"
      ],
      "text/plain": [
       "   zipcode     price\n",
       "0    98178  221900.0\n",
       "1    98125  538000.0\n",
       "2    98028  180000.0\n",
       "3    98136  604000.0\n",
       "4    98074  510000.0"
      ]
     },
     "execution_count": 2,
     "metadata": {},
     "output_type": "execute_result"
    }
   ],
   "source": [
    "tokeep = ['zipcode','price']\n",
    "df_keep = df.loc[:,tokeep]\n",
    "df_keep = pd.DataFrame(df_keep)\n",
    "\n",
    "over400 = df_keep[df_keep['price'] > 4000000].index\n",
    "df_keep.drop(over400, inplace=True)\n",
    "\n",
    "df_keep.head()"
   ]
  },
  {
   "cell_type": "markdown",
   "metadata": {},
   "source": [
    "### zipcodes coded to neighborhood name"
   ]
  },
  {
   "cell_type": "code",
   "execution_count": 3,
   "metadata": {
    "ExecuteTime": {
     "end_time": "2020-07-28T02:19:33.175690Z",
     "start_time": "2020-07-28T02:19:27.483821Z"
    }
   },
   "outputs": [],
   "source": [
    "Auburn = [98001, 98002, 98003, 98023, 98047, 98063, 98071, 98092, 98093]\n",
    "Baring = [98224]\n",
    "BeauxArtsVillage = [98004]\n",
    "Bellevue = [98004, 98005, 98006, 98007, 98008, 98009, 98015]\n",
    "BlackDiamond = [98010]\n",
    "Bothell = [98011, 98028, 98041]\n",
    "Burien = [98146, 98148, 98166, 98168]\n",
    "Burton = [98013]\n",
    "Carnation = [98014]\n",
    "ClydeHill = [98004]\n",
    "Covington = [98042]\n",
    "DesMoines = [98148, 98198]\n",
    "Duvall = [98019]\n",
    "Enumclaw = [98022]\n",
    "FallCity = [98024]\n",
    "FederalWay = [98001, 98003, 98023, 98063, 98093]\n",
    "Hobart = [98025]\n",
    "HuntsPoint = [98004]\n",
    "Issaquah = [98027, 98029, 98075]\n",
    "Kenmore = [98028]\n",
    "Kent = [98030, 98031, 98032, 98035, 98042, 98064]\n",
    "Kirkland = [98033, 98034, 98083]\n",
    "LakeForestPark = [98155]\n",
    "MapleValley = [98038]\n",
    "Medina = [98039]\n",
    "MercerIsland = [98040]\n",
    "Newcastle = [98156, 98159]\n",
    "NormandyPark = [98148, 98166, 98198]\n",
    "NorthBend = [98045]\n",
    "Pacific = [98047]\n",
    "Preston = [98050]\n",
    "Ravensdale = [98051]\n",
    "Redmond = [98052, 98053, 98073, 98074]\n",
    "Redondo = [98054]\n",
    "Renton = [98055, 98056, 98057, 98058, 98059]\n",
    "Sammamish = [98074, 98075]\n",
    "Seahurst = [98062]\n",
    "Seatac = [98148, 98158, 98168, 98188, 98198]\n",
    "Seattle = [98101, 98102, 98103, 98104, 98105, 98106, 98107, 98108, 98109, 98111, 98112, 98114, 98115, 98116, 98117, 98118, 98119, 98121, 98122, 98124, 98125, 98126, 98131, 98132, 98133, 98134, 98136, 98138, 98144, 98145, 98146, 98148, 98154, 98155, 98158, 98160, 98161, 98164, 98166, 98168, 98171, 98174, 98177, 98178, 98188, 98198, 98199]\n",
    "Shoreline = [98133, 98155, 98177]\n",
    "Skykomish = [98288]\n",
    "Snoqualmie = [98065, 98068]\n",
    "Tukwila = [98108, 98138, 98168, 98178, 98188]\n",
    "Vashon = [98013, 98070]\n",
    "Woodinville = [98072]\n",
    "YarrowPoint = [98004]\n",
    "\n",
    "def q(row):\n",
    "    if row['zipcode'] in Auburn:\n",
    "        val = 'Auburn'\n",
    "    elif row['zipcode'] in BeauxArtsVillage: \n",
    "        val = 'BeauxArtsVillage'\n",
    "    elif row['zipcode'] in Bellevue: \n",
    "        val = 'Bellevue'\n",
    "    elif row['zipcode'] in BlackDiamond: \n",
    "        val = 'BlackDiamond'\n",
    "    elif row['zipcode'] in Bothell: \n",
    "        val = 'Bothell'\n",
    "    elif row['zipcode'] in Burien: \n",
    "        val = 'Burien'\n",
    "    elif row['zipcode'] in Burton: \n",
    "        val = 'Burton'\n",
    "    elif row['zipcode'] in Carnation: \n",
    "        val = 'Carnation'\n",
    "    elif row['zipcode'] in ClydeHill: \n",
    "        val = 'ClydeHill'\n",
    "    elif row['zipcode'] in Covington: \n",
    "        val = 'Covington'\n",
    "    elif row['zipcode'] in DesMoines: \n",
    "        val = 'DesMoines'\n",
    "    elif row['zipcode'] in Duvall: \n",
    "        val = 'Duvall'\n",
    "    elif row['zipcode'] in Enumclaw: \n",
    "        val = 'Enumclaw'\n",
    "    elif row['zipcode'] in FallCity: \n",
    "        val = 'FallCity'\n",
    "    elif row['zipcode'] in FederalWay: \n",
    "        val = 'FederalWay'\n",
    "    elif row['zipcode'] in Hobart: \n",
    "        val = 'Hobart'\n",
    "    elif row['zipcode'] in HuntsPoint: \n",
    "        val = 'HuntsPoint'\n",
    "    elif row['zipcode'] in Issaquah: \n",
    "        val = 'Issaquah'\n",
    "    elif row['zipcode'] in Kenmore: \n",
    "        val = 'Kenmore'\n",
    "    elif row['zipcode'] in Kent: \n",
    "        val = 'Kent'\n",
    "    elif row['zipcode'] in Kirkland: \n",
    "        val = 'Kirkland'\n",
    "    elif row['zipcode'] in LakeForestPark: \n",
    "        val = 'LakeForestPark'\n",
    "    elif row['zipcode'] in MapleValley: \n",
    "        val = 'MapleValley'\n",
    "    elif row['zipcode'] in Medina: \n",
    "        val = 'Medina'\n",
    "    elif row['zipcode'] in MercerIsland: \n",
    "        val = 'MercerIsland'\n",
    "    elif row['zipcode'] in Newcastle: \n",
    "        val = 'Newcastle'\n",
    "    elif row['zipcode'] in NormandyPark: \n",
    "        val = 'NormandyPark'\n",
    "    elif row['zipcode'] in NorthBend: \n",
    "        val = 'NorthBend'\n",
    "    elif row['zipcode'] in Pacific: \n",
    "        val = 'Pacific'\n",
    "    elif row['zipcode'] in Preston: \n",
    "        val = 'Preston'\n",
    "    elif row['zipcode'] in Ravensdale: \n",
    "        val = 'Ravensdale'\n",
    "    elif row['zipcode'] in Redmond: \n",
    "        val = 'Redmond'\n",
    "    elif row['zipcode'] in Redondo: \n",
    "        val = 'Redondo'\n",
    "    elif row['zipcode'] in Renton: \n",
    "        val = 'Renton'\n",
    "    elif row['zipcode'] in Sammamish: \n",
    "        val = 'Sammamish'\n",
    "    elif row['zipcode'] in Seahurst: \n",
    "        val = 'Seahurst'\n",
    "    elif row['zipcode'] in Seatac: \n",
    "        val = 'Seatac'\n",
    "    elif row['zipcode'] in Seattle: \n",
    "        val = 'Seattle'\n",
    "    elif row['zipcode'] in Shoreline: \n",
    "        val = 'Shoreline'\n",
    "    elif row['zipcode'] in Skykomish: \n",
    "        val = 'Skykomish'\n",
    "    elif row['zipcode'] in Snoqualmie: \n",
    "        val = 'Snoqualmie'\n",
    "    elif row['zipcode'] in Tukwila: \n",
    "        val = 'Tukwila'\n",
    "    elif row['zipcode'] in Vashon: \n",
    "        val = 'Vashon'\n",
    "    elif row['zipcode'] in Woodinville: \n",
    "        val = 'Woodinville'\n",
    "    elif row['zipcode'] in YarrowPoint: \n",
    "        val = 'YarrowPoint'\n",
    "    else:\n",
    "        val = 'other'\n",
    "    return val\n",
    "\n",
    "df_keep['city'] = df_keep.apply(q, axis=1)"
   ]
  },
  {
   "cell_type": "code",
   "execution_count": 4,
   "metadata": {
    "ExecuteTime": {
     "end_time": "2020-07-28T02:19:33.187818Z",
     "start_time": "2020-07-28T02:19:33.177509Z"
    }
   },
   "outputs": [
    {
     "data": {
      "text/html": [
       "<div>\n",
       "<style scoped>\n",
       "    .dataframe tbody tr th:only-of-type {\n",
       "        vertical-align: middle;\n",
       "    }\n",
       "\n",
       "    .dataframe tbody tr th {\n",
       "        vertical-align: top;\n",
       "    }\n",
       "\n",
       "    .dataframe thead th {\n",
       "        text-align: right;\n",
       "    }\n",
       "</style>\n",
       "<table border=\"1\" class=\"dataframe\">\n",
       "  <thead>\n",
       "    <tr style=\"text-align: right;\">\n",
       "      <th></th>\n",
       "      <th>zipcode</th>\n",
       "      <th>price</th>\n",
       "      <th>city</th>\n",
       "    </tr>\n",
       "  </thead>\n",
       "  <tbody>\n",
       "    <tr>\n",
       "      <th>0</th>\n",
       "      <td>98178</td>\n",
       "      <td>221900.0</td>\n",
       "      <td>Seattle</td>\n",
       "    </tr>\n",
       "    <tr>\n",
       "      <th>1</th>\n",
       "      <td>98125</td>\n",
       "      <td>538000.0</td>\n",
       "      <td>Seattle</td>\n",
       "    </tr>\n",
       "    <tr>\n",
       "      <th>2</th>\n",
       "      <td>98028</td>\n",
       "      <td>180000.0</td>\n",
       "      <td>Bothell</td>\n",
       "    </tr>\n",
       "    <tr>\n",
       "      <th>3</th>\n",
       "      <td>98136</td>\n",
       "      <td>604000.0</td>\n",
       "      <td>Seattle</td>\n",
       "    </tr>\n",
       "    <tr>\n",
       "      <th>4</th>\n",
       "      <td>98074</td>\n",
       "      <td>510000.0</td>\n",
       "      <td>Redmond</td>\n",
       "    </tr>\n",
       "  </tbody>\n",
       "</table>\n",
       "</div>"
      ],
      "text/plain": [
       "   zipcode     price     city\n",
       "0    98178  221900.0  Seattle\n",
       "1    98125  538000.0  Seattle\n",
       "2    98028  180000.0  Bothell\n",
       "3    98136  604000.0  Seattle\n",
       "4    98074  510000.0  Redmond"
      ]
     },
     "execution_count": 4,
     "metadata": {},
     "output_type": "execute_result"
    }
   ],
   "source": [
    "df_keep.head()"
   ]
  },
  {
   "cell_type": "code",
   "execution_count": 8,
   "metadata": {
    "ExecuteTime": {
     "end_time": "2020-07-28T02:20:18.600196Z",
     "start_time": "2020-07-28T02:20:17.838568Z"
    }
   },
   "outputs": [
    {
     "data": {
      "image/png": "[encoded data removed]",
      "text/plain": [
       "<Figure size 1080x792 with 1 Axes>"
      ]
     },
     "metadata": {},
     "output_type": "display_data"
    }
   ],
   "source": [
    "plt.figure(figsize=(15,11))\n",
    "chart = sns.boxplot(df_keep['city'], df_keep['price'], color='gold')\n",
    "plt.title('Sales Price by Neighborhood', fontsize=18)\n",
    "plt.xlabel('Neighborhood', fontsize=14)\n",
    "plt.ylabel('Price $', fontsize=14)\n",
    "chart.set_xticklabels(chart.get_xticklabels(), rotation=90, fontsize=14);"
   ]
  },
  {
   "cell_type": "code",
   "execution_count": 6,
   "metadata": {
    "ExecuteTime": {
     "end_time": "2020-07-28T02:19:34.023049Z",
     "start_time": "2020-07-28T02:19:34.016812Z"
    }
   },
   "outputs": [
    {
     "data": {
      "text/plain": [
       "28"
      ]
     },
     "execution_count": 6,
     "metadata": {},
     "output_type": "execute_result"
    }
   ],
   "source": [
    "len(df_keep.city.value_counts())"
   ]
  },
  {
   "cell_type": "code",
   "execution_count": 7,
   "metadata": {
    "ExecuteTime": {
     "end_time": "2020-07-28T02:19:34.036563Z",
     "start_time": "2020-07-28T02:19:34.026758Z"
    }
   },
   "outputs": [
    {
     "data": {
      "text/plain": [
       "city\n",
       "Auburn               269950.0\n",
       "BeauxArtsVillage    1150000.0\n",
       "Bellevue             660000.0\n",
       "BlackDiamond         359999.5\n",
       "Bothell              452125.0\n",
       "Burien               286500.0\n",
       "Carnation            415000.0\n",
       "Covington            291500.0\n",
       "DesMoines            265000.0\n",
       "Duvall               401250.0\n",
       "Enumclaw             280000.0\n",
       "FallCity             462500.0\n",
       "Issaquah             627000.0\n",
       "Kent                 275000.0\n",
       "Kirkland             510000.0\n",
       "LakeForestPark       375000.0\n",
       "MapleValley          342000.0\n",
       "Medina              1880000.0\n",
       "MercerIsland         992750.0\n",
       "NorthBend            404750.0\n",
       "Redmond              633950.0\n",
       "Renton               358000.0\n",
       "Seatac               264000.0\n",
       "Seattle              498000.0\n",
       "Snoqualmie           502500.0\n",
       "Vashon               465000.0\n",
       "Woodinville          515000.0\n",
       "other                652475.0\n",
       "Name: price, dtype: float64"
      ]
     },
     "execution_count": 7,
     "metadata": {},
     "output_type": "execute_result"
    }
   ],
   "source": [
    "df_keep.groupby(['city'])['price'].median()"
   ]
  },
  {
   "cell_type": "code",
   "execution_count": null,
   "metadata": {},
   "outputs": [],
   "source": []
  }
 ],
 "metadata": {
  "kernelspec": {
   "display_name": "learn-env",
   "language": "python",
   "name": "learn-env"
  },
  "language_info": {
   "codemirror_mode": {
    "name": "ipython",
    "version": 3
   },
   "file_extension": ".py",
   "mimetype": "text/x-python",
   "name": "python",
   "nbconvert_exporter": "python",
   "pygments_lexer": "ipython3",
   "version": "3.7.6"
  },
  "toc": {
   "base_numbering": 1,
   "nav_menu": {},
   "number_sections": true,
   "sideBar": true,
   "skip_h1_title": false,
   "title_cell": "Table of Contents",
   "title_sidebar": "Contents",
   "toc_cell": false,
   "toc_position": {},
   "toc_section_display": true,
   "toc_window_display": false
  },
  "varInspector": {
   "cols": {
    "lenName": 16,
    "lenType": 16,
    "lenVar": 40
   },
   "kernels_config": {
    "python": {
     "delete_cmd_postfix": "",
     "delete_cmd_prefix": "del ",
     "library": "var_list.py",
     "varRefreshCmd": "print(var_dic_list())"
    },
    "r": {
     "delete_cmd_postfix": ") ",
     "delete_cmd_prefix": "rm(",
     "library": "var_list.r",
     "varRefreshCmd": "cat(var_dic_list()) "
    }
   },
   "types_to_exclude": [
    "module",
    "function",
    "builtin_function_or_method",
    "instance",
    "_Feature"
   ],
   "window_display": false
  }
 },
 "nbformat": 4,
 "nbformat_minor": 4
}
