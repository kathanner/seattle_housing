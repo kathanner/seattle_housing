{
 "cells": [
  {
   "cell_type": "markdown",
   "metadata": {},
   "source": [
    "# King County Housing Price Trends"
   ]
  },
  {
   "cell_type": "markdown",
   "metadata": {},
   "source": [
    "objective: Provide West Seattle Realty (WSR) with value-added assets to share with their clientele. As a small, local agency, a trend analysis and market predictions tailored to their brand will help distinguish their services from larger national realty services.\n",
    "\n",
    "approach: Explore the provided dataset, find valuable trends and create a regression model for pricing predictions based on property features."
   ]
  },
  {
   "cell_type": "markdown",
   "metadata": {},
   "source": [
    "## Dataset"
   ]
  },
  {
   "cell_type": "markdown",
   "metadata": {},
   "source": [
    "closing property prices for King County sold between May 2014 and May 2015\n",
    "\n",
    "Includes detailed information including: \n",
    "* Sale price\n",
    "* Sale date\n",
    "* Property condition and features\n",
    "* Property location and neighboring property features \n",
    "\n",
    "(complete variable list available in the notebook <a href=\"housing_data.ipynb\">housing_data.ipynb</a>)\n",
    "\n"
   ]
  },
  {
   "cell_type": "markdown",
   "metadata": {},
   "source": [
    "## Targeted Audience"
   ]
  },
  {
   "cell_type": "markdown",
   "metadata": {},
   "source": [
    "West Seattle Realty’s Targeted Segment: potential buyers. Specifically, WSR will use trends and insights to create a Buyer's Need-to-Know document for those who are interested in: \n",
    "* Expected price based on property features\n"
   ]
  },
  {
   "cell_type": "markdown",
   "metadata": {
    "ExecuteTime": {
     "end_time": "2020-07-28T03:10:55.839732Z",
     "start_time": "2020-07-28T03:10:55.837529Z"
    }
   },
   "source": [
    "## EDA"
   ]
  },
  {
   "cell_type": "markdown",
   "metadata": {},
   "source": [
    "### Is this a good market for flipping homes?"
   ]
  },
  {
   "cell_type": "markdown",
   "metadata": {},
   "source": [
    "### How does the time of year impact sale prices?"
   ]
  },
  {
   "cell_type": "markdown",
   "metadata": {},
   "source": [
    "### How do waterfront locations and quality of the view affect sale prices?"
   ]
  },
  {
   "cell_type": "markdown",
   "metadata": {},
   "source": [
    "#### Waterfront"
   ]
  },
  {
   "cell_type": "markdown",
   "metadata": {},
   "source": [
    "#### Does it have a view?"
   ]
  },
  {
   "cell_type": "markdown",
   "metadata": {},
   "source": [
    "## Features"
   ]
  },
  {
   "cell_type": "markdown",
   "metadata": {},
   "source": [
    "### Assigned grade level"
   ]
  },
  {
   "cell_type": "markdown",
   "metadata": {},
   "source": [
    "### Bathroom/Bedroom ratio"
   ]
  },
  {
   "cell_type": "markdown",
   "metadata": {},
   "source": [
    "### Neighborhoods"
   ]
  },
  {
   "cell_type": "markdown",
   "metadata": {},
   "source": [
    "### Decade of original build"
   ]
  },
  {
   "cell_type": "markdown",
   "metadata": {},
   "source": [
    "## Final Regression Model"
   ]
  },
  {
   "cell_type": "markdown",
   "metadata": {},
   "source": [
    "r-squared:  0.7778\n",
    "\n",
    "mean absolute error (MAE):  105313.8415\n",
    "\n",
    "mean squared error (MSE):  27295186841.4224\n",
    "\n",
    "root mean square error (RMSE):  165212.5505"
   ]
  },
  {
   "cell_type": "markdown",
   "metadata": {},
   "source": [
    "### Impact of specific coefficients on price"
   ]
  },
  {
   "cell_type": "markdown",
   "metadata": {},
   "source": [
    "## Recommendations"
   ]
  },
  {
   "cell_type": "markdown",
   "metadata": {},
   "source": [
    "Present buyers with pricing expectations featuring selections of:\n",
    "* Grade of Property regarding building construction and design\n",
    "    * Low (gr 1-3)\n",
    "    * Average (gr 4-7)\n",
    "* Bathroom/Bedroom ratio \n",
    "    * 1:1 has an average of \\\\$515K\n",
    "    * For negotiations, consider the price dip with a 2:1 ratio\n",
    "* Neighborhoods\n",
    "    * West Seattle Realty listings that are similar to average for the King County Market\n",
    "        * Seattle and Kirkland\n",
    "    * Expect to spend 66% more on properties in the Bellevue neighborhood\n"
   ]
  },
  {
   "cell_type": "markdown",
   "metadata": {},
   "source": [
    "## Scale Recommendations (Future Work)"
   ]
  },
  {
   "cell_type": "markdown",
   "metadata": {},
   "source": [
    "Focus on locality features. Gather more data to develop neighborhood profiles such as:\n",
    "* Who lives here? Are they the property owners?\n",
    "* What community amenities are available? (parks, local businesses, entertainment)\n",
    "\n",
    "Build year-over-year case studies showing neighborhood trends and predictions\n"
   ]
  }
 ],
 "metadata": {
  "kernelspec": {
   "display_name": "learn-env",
   "language": "python",
   "name": "learn-env"
  },
  "language_info": {
   "codemirror_mode": {
    "name": "ipython",
    "version": 3
   },
   "file_extension": ".py",
   "mimetype": "text/x-python",
   "name": "python",
   "nbconvert_exporter": "python",
   "pygments_lexer": "ipython3",
   "version": "3.7.6"
  },
  "toc": {
   "base_numbering": 1,
   "nav_menu": {},
   "number_sections": true,
   "sideBar": true,
   "skip_h1_title": false,
   "title_cell": "Table of Contents",
   "title_sidebar": "Contents",
   "toc_cell": false,
   "toc_position": {},
   "toc_section_display": true,
   "toc_window_display": false
  },
  "varInspector": {
   "cols": {
    "lenName": 16,
    "lenType": 16,
    "lenVar": 40
   },
   "kernels_config": {
    "python": {
     "delete_cmd_postfix": "",
     "delete_cmd_prefix": "del ",
     "library": "var_list.py",
     "varRefreshCmd": "print(var_dic_list())"
    },
    "r": {
     "delete_cmd_postfix": ") ",
     "delete_cmd_prefix": "rm(",
     "library": "var_list.r",
     "varRefreshCmd": "cat(var_dic_list()) "
    }
   },
   "types_to_exclude": [
    "module",
    "function",
    "builtin_function_or_method",
    "instance",
    "_Feature"
   ],
   "window_display": false
  }
 },
 "nbformat": 4,
 "nbformat_minor": 4
}
